{
 "cells": [
  {
   "cell_type": "markdown",
   "metadata": {},
   "source": [
    "# Data Visualization\\n\n",
    "\\n\n",
    "## Objectives\\n\n",
    "* Identify key problems in image quality to be tackled by machine learning approaches.\\n\n",
    "\\n\n",
    "## Inputs\\n\n",
    "* raw images sorted by class:\\n\n",
    "    * inputs/test/alive\\n\n",
    "    * inputs/test/dead\\n\n",
    "    * inputs/test/unknown\\n\n",
    "\\n\n",
    "    * inputs/train/alive\\n\n",
    "    * inputs/train/dead\\n\n",
    "\\n\n",
    "    * inputs/validation/alive\\n\n",
    "    * inputs/validation/dead\\n\n",
    "\\n\n",
    "## Additional Comments | Insights | Conclusions\\n\n",
    "\\n"
   ]
  },
  {
   "cell_type": "code",
   "execution_count": null,
   "metadata": {},
   "outputs": [],
   "source": []
  }
 ],
 "metadata": {
  "kernelspec": {
   "display_name": "Python 3",
   "language": "python",
   "name": "python3"
  },
  "language_info": {
   "name": "python",
   "version": "3.8.18"
  }
 },
 "nbformat": 4,
 "nbformat_minor": 2
}
